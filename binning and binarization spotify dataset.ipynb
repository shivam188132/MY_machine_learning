{
 "cells": [
  {
   "cell_type": "code",
   "execution_count": 1,
   "id": "3728408e-0637-4e8b-a3be-f77e38782602",
   "metadata": {},
   "outputs": [],
   "source": [
    "import pandas as pd\n",
    "import numpy as np \n",
    "import matplotlib.pyplot as plt"
   ]
  },
  {
   "cell_type": "markdown",
   "id": "67e822d1-9db9-4749-9f6b-81bf8d6ec8fe",
   "metadata": {},
   "source": [
    "### Encoding problem"
   ]
  },
  {
   "cell_type": "code",
   "execution_count": 2,
   "id": "0dec53cf-efbf-4423-9b3b-5607bc5cbdd9",
   "metadata": {},
   "outputs": [],
   "source": [
    "# df = pd.read_csv('spotify-2023.csv' ,encoding='utf-8')"
   ]
  },
  {
   "cell_type": "code",
   "execution_count": 3,
   "id": "a5c4f083-eac3-4163-9d9d-734e81d3377b",
   "metadata": {},
   "outputs": [],
   "source": [
    "#!pip install chardet"
   ]
  },
  {
   "cell_type": "markdown",
   "id": "d5068d00-86e6-4166-a770-9ad394f995b8",
   "metadata": {},
   "source": [
    "### Method 1 identify the correct encoding"
   ]
  },
  {
   "cell_type": "code",
   "execution_count": 4,
   "id": "a0f20c5c-25a2-445f-ac38-87040420b8a5",
   "metadata": {},
   "outputs": [
    {
     "name": "stdout",
     "output_type": "stream",
     "text": [
      "ISO-8859-1\n"
     ]
    }
   ],
   "source": [
    "import chardet\n",
    "\n",
    "with open('spotify-2023.csv', 'rb') as file:\n",
    "    result = chardet.detect(file.read())\n",
    "    print(result['encoding'])\n"
   ]
  },
  {
   "cell_type": "code",
   "execution_count": 5,
   "id": "4feeb138-679f-476a-8963-d0054d154ab9",
   "metadata": {},
   "outputs": [],
   "source": [
    "df = pd.read_csv('spotify-2023.csv' ,encoding='ISO-8859-1')"
   ]
  },
  {
   "cell_type": "code",
   "execution_count": 6,
   "id": "4bf145ea-c150-47d7-a7a8-bb5870cf2f7a",
   "metadata": {},
   "outputs": [
    {
     "data": {
      "text/html": [
       "<div>\n",
       "<style scoped>\n",
       "    .dataframe tbody tr th:only-of-type {\n",
       "        vertical-align: middle;\n",
       "    }\n",
       "\n",
       "    .dataframe tbody tr th {\n",
       "        vertical-align: top;\n",
       "    }\n",
       "\n",
       "    .dataframe thead th {\n",
       "        text-align: right;\n",
       "    }\n",
       "</style>\n",
       "<table border=\"1\" class=\"dataframe\">\n",
       "  <thead>\n",
       "    <tr style=\"text-align: right;\">\n",
       "      <th></th>\n",
       "      <th>track_name</th>\n",
       "      <th>artist(s)_name</th>\n",
       "      <th>artist_count</th>\n",
       "      <th>released_year</th>\n",
       "      <th>released_month</th>\n",
       "      <th>released_day</th>\n",
       "      <th>in_spotify_playlists</th>\n",
       "      <th>in_spotify_charts</th>\n",
       "      <th>streams</th>\n",
       "      <th>in_apple_playlists</th>\n",
       "      <th>...</th>\n",
       "      <th>bpm</th>\n",
       "      <th>key</th>\n",
       "      <th>mode</th>\n",
       "      <th>danceability_%</th>\n",
       "      <th>valence_%</th>\n",
       "      <th>energy_%</th>\n",
       "      <th>acousticness_%</th>\n",
       "      <th>instrumentalness_%</th>\n",
       "      <th>liveness_%</th>\n",
       "      <th>speechiness_%</th>\n",
       "    </tr>\n",
       "  </thead>\n",
       "  <tbody>\n",
       "    <tr>\n",
       "      <th>0</th>\n",
       "      <td>Seven (feat. Latto) (Explicit Ver.)</td>\n",
       "      <td>Latto, Jung Kook</td>\n",
       "      <td>2</td>\n",
       "      <td>2023</td>\n",
       "      <td>7</td>\n",
       "      <td>14</td>\n",
       "      <td>553</td>\n",
       "      <td>147</td>\n",
       "      <td>141381703</td>\n",
       "      <td>43</td>\n",
       "      <td>...</td>\n",
       "      <td>125</td>\n",
       "      <td>B</td>\n",
       "      <td>Major</td>\n",
       "      <td>80</td>\n",
       "      <td>89</td>\n",
       "      <td>83</td>\n",
       "      <td>31</td>\n",
       "      <td>0</td>\n",
       "      <td>8</td>\n",
       "      <td>4</td>\n",
       "    </tr>\n",
       "    <tr>\n",
       "      <th>1</th>\n",
       "      <td>LALA</td>\n",
       "      <td>Myke Towers</td>\n",
       "      <td>1</td>\n",
       "      <td>2023</td>\n",
       "      <td>3</td>\n",
       "      <td>23</td>\n",
       "      <td>1474</td>\n",
       "      <td>48</td>\n",
       "      <td>133716286</td>\n",
       "      <td>48</td>\n",
       "      <td>...</td>\n",
       "      <td>92</td>\n",
       "      <td>C#</td>\n",
       "      <td>Major</td>\n",
       "      <td>71</td>\n",
       "      <td>61</td>\n",
       "      <td>74</td>\n",
       "      <td>7</td>\n",
       "      <td>0</td>\n",
       "      <td>10</td>\n",
       "      <td>4</td>\n",
       "    </tr>\n",
       "    <tr>\n",
       "      <th>2</th>\n",
       "      <td>vampire</td>\n",
       "      <td>Olivia Rodrigo</td>\n",
       "      <td>1</td>\n",
       "      <td>2023</td>\n",
       "      <td>6</td>\n",
       "      <td>30</td>\n",
       "      <td>1397</td>\n",
       "      <td>113</td>\n",
       "      <td>140003974</td>\n",
       "      <td>94</td>\n",
       "      <td>...</td>\n",
       "      <td>138</td>\n",
       "      <td>F</td>\n",
       "      <td>Major</td>\n",
       "      <td>51</td>\n",
       "      <td>32</td>\n",
       "      <td>53</td>\n",
       "      <td>17</td>\n",
       "      <td>0</td>\n",
       "      <td>31</td>\n",
       "      <td>6</td>\n",
       "    </tr>\n",
       "    <tr>\n",
       "      <th>3</th>\n",
       "      <td>Cruel Summer</td>\n",
       "      <td>Taylor Swift</td>\n",
       "      <td>1</td>\n",
       "      <td>2019</td>\n",
       "      <td>8</td>\n",
       "      <td>23</td>\n",
       "      <td>7858</td>\n",
       "      <td>100</td>\n",
       "      <td>800840817</td>\n",
       "      <td>116</td>\n",
       "      <td>...</td>\n",
       "      <td>170</td>\n",
       "      <td>A</td>\n",
       "      <td>Major</td>\n",
       "      <td>55</td>\n",
       "      <td>58</td>\n",
       "      <td>72</td>\n",
       "      <td>11</td>\n",
       "      <td>0</td>\n",
       "      <td>11</td>\n",
       "      <td>15</td>\n",
       "    </tr>\n",
       "    <tr>\n",
       "      <th>4</th>\n",
       "      <td>WHERE SHE GOES</td>\n",
       "      <td>Bad Bunny</td>\n",
       "      <td>1</td>\n",
       "      <td>2023</td>\n",
       "      <td>5</td>\n",
       "      <td>18</td>\n",
       "      <td>3133</td>\n",
       "      <td>50</td>\n",
       "      <td>303236322</td>\n",
       "      <td>84</td>\n",
       "      <td>...</td>\n",
       "      <td>144</td>\n",
       "      <td>A</td>\n",
       "      <td>Minor</td>\n",
       "      <td>65</td>\n",
       "      <td>23</td>\n",
       "      <td>80</td>\n",
       "      <td>14</td>\n",
       "      <td>63</td>\n",
       "      <td>11</td>\n",
       "      <td>6</td>\n",
       "    </tr>\n",
       "  </tbody>\n",
       "</table>\n",
       "<p>5 rows × 24 columns</p>\n",
       "</div>"
      ],
      "text/plain": [
       "                            track_name    artist(s)_name  artist_count  \\\n",
       "0  Seven (feat. Latto) (Explicit Ver.)  Latto, Jung Kook             2   \n",
       "1                                 LALA       Myke Towers             1   \n",
       "2                              vampire    Olivia Rodrigo             1   \n",
       "3                         Cruel Summer      Taylor Swift             1   \n",
       "4                       WHERE SHE GOES         Bad Bunny             1   \n",
       "\n",
       "   released_year  released_month  released_day  in_spotify_playlists  \\\n",
       "0           2023               7            14                   553   \n",
       "1           2023               3            23                  1474   \n",
       "2           2023               6            30                  1397   \n",
       "3           2019               8            23                  7858   \n",
       "4           2023               5            18                  3133   \n",
       "\n",
       "   in_spotify_charts    streams  in_apple_playlists  ...  bpm key   mode  \\\n",
       "0                147  141381703                  43  ...  125   B  Major   \n",
       "1                 48  133716286                  48  ...   92  C#  Major   \n",
       "2                113  140003974                  94  ...  138   F  Major   \n",
       "3                100  800840817                 116  ...  170   A  Major   \n",
       "4                 50  303236322                  84  ...  144   A  Minor   \n",
       "\n",
       "  danceability_%  valence_% energy_% acousticness_%  instrumentalness_%  \\\n",
       "0             80         89       83             31                   0   \n",
       "1             71         61       74              7                   0   \n",
       "2             51         32       53             17                   0   \n",
       "3             55         58       72             11                   0   \n",
       "4             65         23       80             14                  63   \n",
       "\n",
       "   liveness_%  speechiness_%  \n",
       "0           8              4  \n",
       "1          10              4  \n",
       "2          31              6  \n",
       "3          11             15  \n",
       "4          11              6  \n",
       "\n",
       "[5 rows x 24 columns]"
      ]
     },
     "execution_count": 6,
     "metadata": {},
     "output_type": "execute_result"
    }
   ],
   "source": [
    "df.head()"
   ]
  },
  {
   "cell_type": "markdown",
   "id": "d3ec5bbc-666e-43fb-9f24-9e17fef4240c",
   "metadata": {},
   "source": [
    "### Method 2 ignore the encoding errors"
   ]
  },
  {
   "cell_type": "code",
   "execution_count": 7,
   "id": "193047d0-b710-4ce2-b0b9-637aaf5014a1",
   "metadata": {},
   "outputs": [],
   "source": [
    "df2 = pd.read_csv('spotify-2023.csv', encoding='utf-8', encoding_errors='ignore')"
   ]
  },
  {
   "cell_type": "code",
   "execution_count": 8,
   "id": "3db524a3-edea-42a4-8f54-e88788d2d20e",
   "metadata": {},
   "outputs": [
    {
     "data": {
      "text/html": [
       "<div>\n",
       "<style scoped>\n",
       "    .dataframe tbody tr th:only-of-type {\n",
       "        vertical-align: middle;\n",
       "    }\n",
       "\n",
       "    .dataframe tbody tr th {\n",
       "        vertical-align: top;\n",
       "    }\n",
       "\n",
       "    .dataframe thead th {\n",
       "        text-align: right;\n",
       "    }\n",
       "</style>\n",
       "<table border=\"1\" class=\"dataframe\">\n",
       "  <thead>\n",
       "    <tr style=\"text-align: right;\">\n",
       "      <th></th>\n",
       "      <th>track_name</th>\n",
       "      <th>artist(s)_name</th>\n",
       "      <th>artist_count</th>\n",
       "      <th>released_year</th>\n",
       "      <th>released_month</th>\n",
       "      <th>released_day</th>\n",
       "      <th>in_spotify_playlists</th>\n",
       "      <th>in_spotify_charts</th>\n",
       "      <th>streams</th>\n",
       "      <th>in_apple_playlists</th>\n",
       "      <th>...</th>\n",
       "      <th>bpm</th>\n",
       "      <th>key</th>\n",
       "      <th>mode</th>\n",
       "      <th>danceability_%</th>\n",
       "      <th>valence_%</th>\n",
       "      <th>energy_%</th>\n",
       "      <th>acousticness_%</th>\n",
       "      <th>instrumentalness_%</th>\n",
       "      <th>liveness_%</th>\n",
       "      <th>speechiness_%</th>\n",
       "    </tr>\n",
       "  </thead>\n",
       "  <tbody>\n",
       "    <tr>\n",
       "      <th>0</th>\n",
       "      <td>Seven (feat. Latto) (Explicit Ver.)</td>\n",
       "      <td>Latto, Jung Kook</td>\n",
       "      <td>2</td>\n",
       "      <td>2023</td>\n",
       "      <td>7</td>\n",
       "      <td>14</td>\n",
       "      <td>553</td>\n",
       "      <td>147</td>\n",
       "      <td>141381703</td>\n",
       "      <td>43</td>\n",
       "      <td>...</td>\n",
       "      <td>125</td>\n",
       "      <td>B</td>\n",
       "      <td>Major</td>\n",
       "      <td>80</td>\n",
       "      <td>89</td>\n",
       "      <td>83</td>\n",
       "      <td>31</td>\n",
       "      <td>0</td>\n",
       "      <td>8</td>\n",
       "      <td>4</td>\n",
       "    </tr>\n",
       "    <tr>\n",
       "      <th>1</th>\n",
       "      <td>LALA</td>\n",
       "      <td>Myke Towers</td>\n",
       "      <td>1</td>\n",
       "      <td>2023</td>\n",
       "      <td>3</td>\n",
       "      <td>23</td>\n",
       "      <td>1474</td>\n",
       "      <td>48</td>\n",
       "      <td>133716286</td>\n",
       "      <td>48</td>\n",
       "      <td>...</td>\n",
       "      <td>92</td>\n",
       "      <td>C#</td>\n",
       "      <td>Major</td>\n",
       "      <td>71</td>\n",
       "      <td>61</td>\n",
       "      <td>74</td>\n",
       "      <td>7</td>\n",
       "      <td>0</td>\n",
       "      <td>10</td>\n",
       "      <td>4</td>\n",
       "    </tr>\n",
       "    <tr>\n",
       "      <th>2</th>\n",
       "      <td>vampire</td>\n",
       "      <td>Olivia Rodrigo</td>\n",
       "      <td>1</td>\n",
       "      <td>2023</td>\n",
       "      <td>6</td>\n",
       "      <td>30</td>\n",
       "      <td>1397</td>\n",
       "      <td>113</td>\n",
       "      <td>140003974</td>\n",
       "      <td>94</td>\n",
       "      <td>...</td>\n",
       "      <td>138</td>\n",
       "      <td>F</td>\n",
       "      <td>Major</td>\n",
       "      <td>51</td>\n",
       "      <td>32</td>\n",
       "      <td>53</td>\n",
       "      <td>17</td>\n",
       "      <td>0</td>\n",
       "      <td>31</td>\n",
       "      <td>6</td>\n",
       "    </tr>\n",
       "    <tr>\n",
       "      <th>3</th>\n",
       "      <td>Cruel Summer</td>\n",
       "      <td>Taylor Swift</td>\n",
       "      <td>1</td>\n",
       "      <td>2019</td>\n",
       "      <td>8</td>\n",
       "      <td>23</td>\n",
       "      <td>7858</td>\n",
       "      <td>100</td>\n",
       "      <td>800840817</td>\n",
       "      <td>116</td>\n",
       "      <td>...</td>\n",
       "      <td>170</td>\n",
       "      <td>A</td>\n",
       "      <td>Major</td>\n",
       "      <td>55</td>\n",
       "      <td>58</td>\n",
       "      <td>72</td>\n",
       "      <td>11</td>\n",
       "      <td>0</td>\n",
       "      <td>11</td>\n",
       "      <td>15</td>\n",
       "    </tr>\n",
       "    <tr>\n",
       "      <th>4</th>\n",
       "      <td>WHERE SHE GOES</td>\n",
       "      <td>Bad Bunny</td>\n",
       "      <td>1</td>\n",
       "      <td>2023</td>\n",
       "      <td>5</td>\n",
       "      <td>18</td>\n",
       "      <td>3133</td>\n",
       "      <td>50</td>\n",
       "      <td>303236322</td>\n",
       "      <td>84</td>\n",
       "      <td>...</td>\n",
       "      <td>144</td>\n",
       "      <td>A</td>\n",
       "      <td>Minor</td>\n",
       "      <td>65</td>\n",
       "      <td>23</td>\n",
       "      <td>80</td>\n",
       "      <td>14</td>\n",
       "      <td>63</td>\n",
       "      <td>11</td>\n",
       "      <td>6</td>\n",
       "    </tr>\n",
       "  </tbody>\n",
       "</table>\n",
       "<p>5 rows × 24 columns</p>\n",
       "</div>"
      ],
      "text/plain": [
       "                            track_name    artist(s)_name  artist_count  \\\n",
       "0  Seven (feat. Latto) (Explicit Ver.)  Latto, Jung Kook             2   \n",
       "1                                 LALA       Myke Towers             1   \n",
       "2                              vampire    Olivia Rodrigo             1   \n",
       "3                         Cruel Summer      Taylor Swift             1   \n",
       "4                       WHERE SHE GOES         Bad Bunny             1   \n",
       "\n",
       "   released_year  released_month  released_day  in_spotify_playlists  \\\n",
       "0           2023               7            14                   553   \n",
       "1           2023               3            23                  1474   \n",
       "2           2023               6            30                  1397   \n",
       "3           2019               8            23                  7858   \n",
       "4           2023               5            18                  3133   \n",
       "\n",
       "   in_spotify_charts    streams  in_apple_playlists  ...  bpm key   mode  \\\n",
       "0                147  141381703                  43  ...  125   B  Major   \n",
       "1                 48  133716286                  48  ...   92  C#  Major   \n",
       "2                113  140003974                  94  ...  138   F  Major   \n",
       "3                100  800840817                 116  ...  170   A  Major   \n",
       "4                 50  303236322                  84  ...  144   A  Minor   \n",
       "\n",
       "  danceability_%  valence_% energy_% acousticness_%  instrumentalness_%  \\\n",
       "0             80         89       83             31                   0   \n",
       "1             71         61       74              7                   0   \n",
       "2             51         32       53             17                   0   \n",
       "3             55         58       72             11                   0   \n",
       "4             65         23       80             14                  63   \n",
       "\n",
       "   liveness_%  speechiness_%  \n",
       "0           8              4  \n",
       "1          10              4  \n",
       "2          31              6  \n",
       "3          11             15  \n",
       "4          11              6  \n",
       "\n",
       "[5 rows x 24 columns]"
      ]
     },
     "execution_count": 8,
     "metadata": {},
     "output_type": "execute_result"
    }
   ],
   "source": [
    "df2.head()"
   ]
  },
  {
   "cell_type": "code",
   "execution_count": 9,
   "id": "4e2dc8fc-dcb7-4307-9cc4-23fc456f305d",
   "metadata": {},
   "outputs": [
    {
     "data": {
      "text/plain": [
       "track_name               0\n",
       "artist(s)_name           0\n",
       "artist_count             0\n",
       "released_year            0\n",
       "released_month           0\n",
       "released_day             0\n",
       "in_spotify_playlists     0\n",
       "in_spotify_charts        0\n",
       "streams                  0\n",
       "in_apple_playlists       0\n",
       "in_apple_charts          0\n",
       "in_deezer_playlists      0\n",
       "in_deezer_charts         0\n",
       "in_shazam_charts        50\n",
       "bpm                      0\n",
       "key                     95\n",
       "mode                     0\n",
       "danceability_%           0\n",
       "valence_%                0\n",
       "energy_%                 0\n",
       "acousticness_%           0\n",
       "instrumentalness_%       0\n",
       "liveness_%               0\n",
       "speechiness_%            0\n",
       "dtype: int64"
      ]
     },
     "execution_count": 9,
     "metadata": {},
     "output_type": "execute_result"
    }
   ],
   "source": [
    "df.isnull().sum()"
   ]
  },
  {
   "cell_type": "raw",
   "id": "f34091ac-1e16-42da-b051-4fccb42f04f7",
   "metadata": {},
   "source": [
    "# Print rows where 'in_shazam_charts' column has missing values"
   ]
  },
  {
   "cell_type": "code",
   "execution_count": 10,
   "id": "c91cff67-1128-4467-90c1-d8f4e139f927",
   "metadata": {},
   "outputs": [
    {
     "data": {
      "text/html": [
       "<div>\n",
       "<style scoped>\n",
       "    .dataframe tbody tr th:only-of-type {\n",
       "        vertical-align: middle;\n",
       "    }\n",
       "\n",
       "    .dataframe tbody tr th {\n",
       "        vertical-align: top;\n",
       "    }\n",
       "\n",
       "    .dataframe thead th {\n",
       "        text-align: right;\n",
       "    }\n",
       "</style>\n",
       "<table border=\"1\" class=\"dataframe\">\n",
       "  <thead>\n",
       "    <tr style=\"text-align: right;\">\n",
       "      <th></th>\n",
       "      <th>track_name</th>\n",
       "      <th>artist(s)_name</th>\n",
       "      <th>artist_count</th>\n",
       "      <th>released_year</th>\n",
       "      <th>in_shazam_charts</th>\n",
       "    </tr>\n",
       "  </thead>\n",
       "  <tbody>\n",
       "    <tr>\n",
       "      <th>535</th>\n",
       "      <td>drivers license</td>\n",
       "      <td>Olivia Rodrigo</td>\n",
       "      <td>1</td>\n",
       "      <td>2021</td>\n",
       "      <td>NaN</td>\n",
       "    </tr>\n",
       "    <tr>\n",
       "      <th>86</th>\n",
       "      <td>Someone You Loved</td>\n",
       "      <td>Lewis Capaldi</td>\n",
       "      <td>1</td>\n",
       "      <td>2018</td>\n",
       "      <td>NaN</td>\n",
       "    </tr>\n",
       "    <tr>\n",
       "      <th>513</th>\n",
       "      <td>good 4 u</td>\n",
       "      <td>Olivia Rodrigo</td>\n",
       "      <td>1</td>\n",
       "      <td>2021</td>\n",
       "      <td>NaN</td>\n",
       "    </tr>\n",
       "    <tr>\n",
       "      <th>449</th>\n",
       "      <td>Snowman</td>\n",
       "      <td>Sia</td>\n",
       "      <td>1</td>\n",
       "      <td>2017</td>\n",
       "      <td>NaN</td>\n",
       "    </tr>\n",
       "  </tbody>\n",
       "</table>\n",
       "</div>"
      ],
      "text/plain": [
       "            track_name  artist(s)_name  artist_count  released_year  \\\n",
       "535    drivers license  Olivia Rodrigo             1           2021   \n",
       "86   Someone You Loved   Lewis Capaldi             1           2018   \n",
       "513           good 4 u  Olivia Rodrigo             1           2021   \n",
       "449            Snowman             Sia             1           2017   \n",
       "\n",
       "    in_shazam_charts  \n",
       "535              NaN  \n",
       "86               NaN  \n",
       "513              NaN  \n",
       "449              NaN  "
      ]
     },
     "execution_count": 10,
     "metadata": {},
     "output_type": "execute_result"
    }
   ],
   "source": [
    "df[df['in_shazam_charts'].isna()][['track_name','artist(s)_name','artist_count','released_year', 'in_shazam_charts']].sample(4)"
   ]
  },
  {
   "cell_type": "raw",
   "id": "499976db-3642-4b1d-9f28-16692a81b72b",
   "metadata": {},
   "source": [
    "df = df.dropna(inplace=True): \n",
    "When you set inplace=True, the dropna() operation modifies the original df directly and returns None. By assigning df to this, you are overwriting df with None.\n",
    "\n",
    "So don't store the 'df.dropna(inplace=True)' outputs into a df's original variable"
   ]
  },
  {
   "cell_type": "code",
   "execution_count": 11,
   "id": "baf4c2d5-8bbf-4f4f-ae39-183df120327b",
   "metadata": {},
   "outputs": [],
   "source": [
    "df.dropna(inplace=True)"
   ]
  },
  {
   "cell_type": "code",
   "execution_count": 12,
   "id": "24cd4b7e-6847-463d-9f75-1e9d2fb0360f",
   "metadata": {},
   "outputs": [
    {
     "data": {
      "text/plain": [
       "track_name              0\n",
       "artist(s)_name          0\n",
       "artist_count            0\n",
       "released_year           0\n",
       "released_month          0\n",
       "released_day            0\n",
       "in_spotify_playlists    0\n",
       "in_spotify_charts       0\n",
       "streams                 0\n",
       "in_apple_playlists      0\n",
       "in_apple_charts         0\n",
       "in_deezer_playlists     0\n",
       "in_deezer_charts        0\n",
       "in_shazam_charts        0\n",
       "bpm                     0\n",
       "key                     0\n",
       "mode                    0\n",
       "danceability_%          0\n",
       "valence_%               0\n",
       "energy_%                0\n",
       "acousticness_%          0\n",
       "instrumentalness_%      0\n",
       "liveness_%              0\n",
       "speechiness_%           0\n",
       "dtype: int64"
      ]
     },
     "execution_count": 12,
     "metadata": {},
     "output_type": "execute_result"
    }
   ],
   "source": [
    "df.isnull().sum()"
   ]
  },
  {
   "cell_type": "code",
   "execution_count": 13,
   "id": "8cf89591-aca6-48c2-af93-1af8aa317336",
   "metadata": {},
   "outputs": [
    {
     "data": {
      "text/html": [
       "<div>\n",
       "<style scoped>\n",
       "    .dataframe tbody tr th:only-of-type {\n",
       "        vertical-align: middle;\n",
       "    }\n",
       "\n",
       "    .dataframe tbody tr th {\n",
       "        vertical-align: top;\n",
       "    }\n",
       "\n",
       "    .dataframe thead th {\n",
       "        text-align: right;\n",
       "    }\n",
       "</style>\n",
       "<table border=\"1\" class=\"dataframe\">\n",
       "  <thead>\n",
       "    <tr style=\"text-align: right;\">\n",
       "      <th></th>\n",
       "      <th>track_name</th>\n",
       "      <th>artist(s)_name</th>\n",
       "      <th>artist_count</th>\n",
       "      <th>released_year</th>\n",
       "      <th>released_month</th>\n",
       "      <th>released_day</th>\n",
       "      <th>in_spotify_playlists</th>\n",
       "      <th>in_spotify_charts</th>\n",
       "      <th>streams</th>\n",
       "      <th>in_apple_playlists</th>\n",
       "      <th>...</th>\n",
       "      <th>bpm</th>\n",
       "      <th>key</th>\n",
       "      <th>mode</th>\n",
       "      <th>danceability_%</th>\n",
       "      <th>valence_%</th>\n",
       "      <th>energy_%</th>\n",
       "      <th>acousticness_%</th>\n",
       "      <th>instrumentalness_%</th>\n",
       "      <th>liveness_%</th>\n",
       "      <th>speechiness_%</th>\n",
       "    </tr>\n",
       "  </thead>\n",
       "  <tbody>\n",
       "    <tr>\n",
       "      <th>724</th>\n",
       "      <td>Something Just Like This</td>\n",
       "      <td>The Chainsmokers, Coldplay</td>\n",
       "      <td>2</td>\n",
       "      <td>2017</td>\n",
       "      <td>2</td>\n",
       "      <td>22</td>\n",
       "      <td>23375</td>\n",
       "      <td>21</td>\n",
       "      <td>2204080728</td>\n",
       "      <td>336</td>\n",
       "      <td>...</td>\n",
       "      <td>103</td>\n",
       "      <td>B</td>\n",
       "      <td>Minor</td>\n",
       "      <td>61</td>\n",
       "      <td>47</td>\n",
       "      <td>65</td>\n",
       "      <td>3</td>\n",
       "      <td>0</td>\n",
       "      <td>17</td>\n",
       "      <td>4</td>\n",
       "    </tr>\n",
       "  </tbody>\n",
       "</table>\n",
       "<p>1 rows × 24 columns</p>\n",
       "</div>"
      ],
      "text/plain": [
       "                   track_name              artist(s)_name  artist_count  \\\n",
       "724  Something Just Like This  The Chainsmokers, Coldplay             2   \n",
       "\n",
       "     released_year  released_month  released_day  in_spotify_playlists  \\\n",
       "724           2017               2            22                 23375   \n",
       "\n",
       "     in_spotify_charts     streams  in_apple_playlists  ...  bpm key   mode  \\\n",
       "724                 21  2204080728                 336  ...  103   B  Minor   \n",
       "\n",
       "    danceability_%  valence_% energy_% acousticness_%  instrumentalness_%  \\\n",
       "724             61         47       65              3                   0   \n",
       "\n",
       "     liveness_%  speechiness_%  \n",
       "724          17              4  \n",
       "\n",
       "[1 rows x 24 columns]"
      ]
     },
     "execution_count": 13,
     "metadata": {},
     "output_type": "execute_result"
    }
   ],
   "source": [
    "df.sample()"
   ]
  },
  {
   "cell_type": "code",
   "execution_count": 14,
   "id": "079cbe92-bf66-4ac6-9c76-93eeefef6cbe",
   "metadata": {},
   "outputs": [
    {
     "data": {
      "text/plain": [
       "(17,)"
      ]
     },
     "execution_count": 14,
     "metadata": {},
     "output_type": "execute_result"
    }
   ],
   "source": [
    "df.describe().columns.shape"
   ]
  },
  {
   "cell_type": "code",
   "execution_count": 15,
   "id": "343524e2-89d8-46bc-aff5-837da0a64c74",
   "metadata": {},
   "outputs": [],
   "source": [
    "numerical_columns= df.describe().columns"
   ]
  },
  {
   "cell_type": "code",
   "execution_count": 16,
   "id": "f092b10c-5072-49e0-96a3-35cdabdb455a",
   "metadata": {},
   "outputs": [
    {
     "data": {
      "text/plain": [
       "Index(['artist_count', 'released_year', 'released_month', 'released_day',\n",
       "       'in_spotify_playlists', 'in_spotify_charts', 'in_apple_playlists',\n",
       "       'in_apple_charts', 'in_deezer_charts', 'bpm', 'danceability_%',\n",
       "       'valence_%', 'energy_%', 'acousticness_%', 'instrumentalness_%',\n",
       "       'liveness_%', 'speechiness_%'],\n",
       "      dtype='object')"
      ]
     },
     "execution_count": 16,
     "metadata": {},
     "output_type": "execute_result"
    }
   ],
   "source": [
    "numerical_columns"
   ]
  },
  {
   "cell_type": "code",
   "execution_count": 17,
   "id": "01708d0c-4602-43c3-8e7a-227cff0548e7",
   "metadata": {},
   "outputs": [],
   "source": [
    "total_columns = df.columns"
   ]
  },
  {
   "cell_type": "code",
   "execution_count": 18,
   "id": "ca9fd381-ed85-4f8c-ba51-34a339ba801e",
   "metadata": {},
   "outputs": [
    {
     "data": {
      "text/plain": [
       "Index(['track_name', 'artist(s)_name', 'artist_count', 'released_year',\n",
       "       'released_month', 'released_day', 'in_spotify_playlists',\n",
       "       'in_spotify_charts', 'streams', 'in_apple_playlists', 'in_apple_charts',\n",
       "       'in_deezer_playlists', 'in_deezer_charts', 'in_shazam_charts', 'bpm',\n",
       "       'key', 'mode', 'danceability_%', 'valence_%', 'energy_%',\n",
       "       'acousticness_%', 'instrumentalness_%', 'liveness_%', 'speechiness_%'],\n",
       "      dtype='object')"
      ]
     },
     "execution_count": 18,
     "metadata": {},
     "output_type": "execute_result"
    }
   ],
   "source": [
    "total_columns"
   ]
  },
  {
   "cell_type": "markdown",
   "id": "fdda9cea-8e1b-40d4-9e15-5b7c1e14c739",
   "metadata": {},
   "source": [
    "### non numerical columns"
   ]
  },
  {
   "cell_type": "code",
   "execution_count": 19,
   "id": "eb86b455-9292-4982-8b1a-3fd2c84cc106",
   "metadata": {},
   "outputs": [
    {
     "name": "stdout",
     "output_type": "stream",
     "text": [
      "track_name --->dtype-----------> <class 'str'>\n",
      "artist(s)_name --->dtype-----------> <class 'str'>\n",
      "streams --->dtype-----------> <class 'str'>\n",
      "in_deezer_playlists --->dtype-----------> <class 'str'>\n",
      "in_shazam_charts --->dtype-----------> <class 'str'>\n",
      "key --->dtype-----------> <class 'str'>\n",
      "mode --->dtype-----------> <class 'str'>\n"
     ]
    }
   ],
   "source": [
    "non_numeric_col = []\n",
    "for col in total_columns:\n",
    "    if col not in numerical_columns.values:\n",
    "        non_numeric_col.append(col)\n",
    "        print(col,\"--->dtype----------->\", type(col))"
   ]
  },
  {
   "cell_type": "code",
   "execution_count": 20,
   "id": "f7417465-0964-474b-b833-3bc332b6cfe5",
   "metadata": {},
   "outputs": [
    {
     "data": {
      "text/plain": [
       "597    422691058\n",
       "472     65362788\n",
       "271    885093467\n",
       "Name: streams, dtype: object"
      ]
     },
     "execution_count": 20,
     "metadata": {},
     "output_type": "execute_result"
    }
   ],
   "source": [
    "df['streams'].sample(3)"
   ]
  },
  {
   "cell_type": "code",
   "execution_count": 21,
   "id": "28fe271e-c683-4754-97fb-5c2f5c0e7173",
   "metadata": {},
   "outputs": [
    {
     "data": {
      "text/plain": [
       "162    3,631\n",
       "416       12\n",
       "709       24\n",
       "Name: in_deezer_playlists, dtype: object"
      ]
     },
     "execution_count": 21,
     "metadata": {},
     "output_type": "execute_result"
    }
   ],
   "source": [
    "df['in_deezer_playlists'].sample(3)"
   ]
  },
  {
   "cell_type": "code",
   "execution_count": 22,
   "id": "3dddc5cc-623b-4b35-8ded-ef594223fd7b",
   "metadata": {},
   "outputs": [
    {
     "data": {
      "text/plain": [
       "896    0\n",
       "402    0\n",
       "453    0\n",
       "Name: in_shazam_charts, dtype: object"
      ]
     },
     "execution_count": 22,
     "metadata": {},
     "output_type": "execute_result"
    }
   ],
   "source": [
    "df['in_shazam_charts'].sample(3)"
   ]
  },
  {
   "cell_type": "code",
   "execution_count": 23,
   "id": "9bbd63c7-4aab-4cf5-a45b-1045719f5872",
   "metadata": {},
   "outputs": [
    {
     "data": {
      "text/plain": [
       "key\n",
       "C#    115\n",
       "G      91\n",
       "F      87\n",
       "G#     85\n",
       "D      78\n",
       "B      77\n",
       "A      71\n",
       "F#     69\n",
       "E      59\n",
       "A#     55\n",
       "D#     30\n",
       "Name: count, dtype: int64"
      ]
     },
     "execution_count": 23,
     "metadata": {},
     "output_type": "execute_result"
    }
   ],
   "source": [
    "df['key'].value_counts()"
   ]
  },
  {
   "cell_type": "code",
   "execution_count": 24,
   "id": "1984205d-3073-4341-ab87-7e5c36e67f38",
   "metadata": {},
   "outputs": [
    {
     "data": {
      "text/plain": [
       "mode\n",
       "Major    452\n",
       "Minor    365\n",
       "Name: count, dtype: int64"
      ]
     },
     "execution_count": 24,
     "metadata": {},
     "output_type": "execute_result"
    }
   ],
   "source": [
    "df['mode'].value_counts()"
   ]
  },
  {
   "cell_type": "code",
   "execution_count": 25,
   "id": "ea21e463-24ec-4a94-acaa-5c062b77eac0",
   "metadata": {},
   "outputs": [
    {
     "data": {
      "text/plain": [
       "artist(s)_name\n",
       "Taylor Swift           29\n",
       "SZA                    17\n",
       "Bad Bunny              16\n",
       "The Weeknd             15\n",
       "Kendrick Lamar         12\n",
       "                       ..\n",
       "Kanii, PR1ISVX          1\n",
       "Yng Lvcas               1\n",
       "NF                      1\n",
       "Tiï¿½ï¿½sto, Tate M     1\n",
       "Feid, Sech, Jhayco      1\n",
       "Name: count, Length: 571, dtype: int64"
      ]
     },
     "execution_count": 25,
     "metadata": {},
     "output_type": "execute_result"
    }
   ],
   "source": [
    "df['artist(s)_name'].value_counts()"
   ]
  },
  {
   "cell_type": "code",
   "execution_count": 26,
   "id": "a0c39bb5-8877-4b62-9796-91ecf52cccb4",
   "metadata": {},
   "outputs": [
    {
     "data": {
      "text/plain": [
       "['track_name',\n",
       " 'artist(s)_name',\n",
       " 'streams',\n",
       " 'in_deezer_playlists',\n",
       " 'in_shazam_charts',\n",
       " 'key',\n",
       " 'mode']"
      ]
     },
     "execution_count": 26,
     "metadata": {},
     "output_type": "execute_result"
    }
   ],
   "source": [
    "non_numeric_col"
   ]
  },
  {
   "cell_type": "code",
   "execution_count": 27,
   "id": "dbc0dd93-73a2-4f7c-b143-1ae3e1a16465",
   "metadata": {},
   "outputs": [],
   "source": [
    "for x in non_numeric_col:\n",
    "    if x in ['track_name', 'artist(s)_name', 'key', 'mode']:\n",
    "        pass\n",
    "    else:\n",
    "     df[x] = pd.to_numeric(df[x], errors='coerce')\n"
   ]
  },
  {
   "cell_type": "code",
   "execution_count": 28,
   "id": "2f825a90-6b94-4ac4-b700-083482d6e6a7",
   "metadata": {},
   "outputs": [
    {
     "data": {
      "text/plain": [
       "0       45.0\n",
       "1       58.0\n",
       "2       91.0\n",
       "3      125.0\n",
       "4       87.0\n",
       "       ...  \n",
       "948     37.0\n",
       "949      8.0\n",
       "950      7.0\n",
       "951     17.0\n",
       "952     32.0\n",
       "Name: in_deezer_playlists, Length: 817, dtype: float64"
      ]
     },
     "execution_count": 28,
     "metadata": {},
     "output_type": "execute_result"
    }
   ],
   "source": [
    "df['in_deezer_playlists'] = pd.to_numeric(df['in_deezer_playlists'], errors='coerce')\n",
    "df['in_deezer_playlists']"
   ]
  },
  {
   "cell_type": "markdown",
   "id": "59d330ad-eea5-47f7-b860-9730918dc9e2",
   "metadata": {},
   "source": [
    "### shortcut code"
   ]
  },
  {
   "cell_type": "code",
   "execution_count": 29,
   "id": "e7544b6a-9618-4f74-924c-13e478ac7783",
   "metadata": {},
   "outputs": [
    {
     "name": "stdout",
     "output_type": "stream",
     "text": [
      "Index(['track_name', 'artist(s)_name', 'key', 'mode'], dtype='object')\n"
     ]
    }
   ],
   "source": [
    "non_numeric_col = df.select_dtypes(include=['object']).columns\n",
    "print(non_numeric_col)\n",
    "\n",
    "for x in non_numeric_col:\n",
    "    if x in ['track_name', 'artist(s)_name', 'key', 'mode']:\n",
    "        pass\n",
    "    else:\n",
    "        df[x] = pd.to_numeric(df[x], errors='coerce')\n"
   ]
  },
  {
   "cell_type": "code",
   "execution_count": 34,
   "id": "9bd51cbe-7f86-4609-8bb2-f9ca6b178be7",
   "metadata": {},
   "outputs": [
    {
     "data": {
      "text/plain": [
       "(20,)"
      ]
     },
     "execution_count": 34,
     "metadata": {},
     "output_type": "execute_result"
    }
   ],
   "source": [
    "df.describe().columns.shape"
   ]
  },
  {
   "cell_type": "code",
   "execution_count": 35,
   "id": "33649166-5233-42d0-a6cc-de3220e0d11f",
   "metadata": {},
   "outputs": [
    {
     "data": {
      "text/html": [
       "<div>\n",
       "<style scoped>\n",
       "    .dataframe tbody tr th:only-of-type {\n",
       "        vertical-align: middle;\n",
       "    }\n",
       "\n",
       "    .dataframe tbody tr th {\n",
       "        vertical-align: top;\n",
       "    }\n",
       "\n",
       "    .dataframe thead th {\n",
       "        text-align: right;\n",
       "    }\n",
       "</style>\n",
       "<table border=\"1\" class=\"dataframe\">\n",
       "  <thead>\n",
       "    <tr style=\"text-align: right;\">\n",
       "      <th></th>\n",
       "      <th>artist_count</th>\n",
       "      <th>released_year</th>\n",
       "      <th>released_month</th>\n",
       "      <th>released_day</th>\n",
       "      <th>in_spotify_playlists</th>\n",
       "      <th>in_spotify_charts</th>\n",
       "      <th>streams</th>\n",
       "      <th>in_apple_playlists</th>\n",
       "      <th>in_apple_charts</th>\n",
       "      <th>in_deezer_playlists</th>\n",
       "      <th>in_deezer_charts</th>\n",
       "      <th>in_shazam_charts</th>\n",
       "      <th>bpm</th>\n",
       "      <th>danceability_%</th>\n",
       "      <th>valence_%</th>\n",
       "      <th>energy_%</th>\n",
       "      <th>acousticness_%</th>\n",
       "      <th>instrumentalness_%</th>\n",
       "      <th>liveness_%</th>\n",
       "      <th>speechiness_%</th>\n",
       "    </tr>\n",
       "  </thead>\n",
       "  <tbody>\n",
       "    <tr>\n",
       "      <th>count</th>\n",
       "      <td>817.000000</td>\n",
       "      <td>817.000000</td>\n",
       "      <td>817.000000</td>\n",
       "      <td>817.000000</td>\n",
       "      <td>817.000000</td>\n",
       "      <td>817.000000</td>\n",
       "      <td>8.160000e+02</td>\n",
       "      <td>817.000000</td>\n",
       "      <td>817.000000</td>\n",
       "      <td>752.000000</td>\n",
       "      <td>817.000000</td>\n",
       "      <td>813.000000</td>\n",
       "      <td>817.000000</td>\n",
       "      <td>817.000000</td>\n",
       "      <td>817.000000</td>\n",
       "      <td>817.000000</td>\n",
       "      <td>817.000000</td>\n",
       "      <td>817.000000</td>\n",
       "      <td>817.000000</td>\n",
       "      <td>817.000000</td>\n",
       "    </tr>\n",
       "    <tr>\n",
       "      <th>mean</th>\n",
       "      <td>1.567931</td>\n",
       "      <td>2018.457772</td>\n",
       "      <td>6.018360</td>\n",
       "      <td>13.696450</td>\n",
       "      <td>4849.898409</td>\n",
       "      <td>11.722154</td>\n",
       "      <td>4.689858e+08</td>\n",
       "      <td>60.161567</td>\n",
       "      <td>49.473684</td>\n",
       "      <td>93.492021</td>\n",
       "      <td>2.451652</td>\n",
       "      <td>51.691267</td>\n",
       "      <td>122.565483</td>\n",
       "      <td>67.391677</td>\n",
       "      <td>51.201958</td>\n",
       "      <td>64.362301</td>\n",
       "      <td>26.309670</td>\n",
       "      <td>1.676867</td>\n",
       "      <td>18.168911</td>\n",
       "      <td>10.526316</td>\n",
       "    </tr>\n",
       "    <tr>\n",
       "      <th>std</th>\n",
       "      <td>0.876211</td>\n",
       "      <td>10.829267</td>\n",
       "      <td>3.572554</td>\n",
       "      <td>9.299663</td>\n",
       "      <td>7741.126455</td>\n",
       "      <td>18.617668</td>\n",
       "      <td>5.231267e+08</td>\n",
       "      <td>74.923594</td>\n",
       "      <td>49.570455</td>\n",
       "      <td>155.561951</td>\n",
       "      <td>5.397024</td>\n",
       "      <td>128.746914</td>\n",
       "      <td>28.174803</td>\n",
       "      <td>14.688458</td>\n",
       "      <td>23.620978</td>\n",
       "      <td>16.107587</td>\n",
       "      <td>25.470972</td>\n",
       "      <td>8.767328</td>\n",
       "      <td>13.541996</td>\n",
       "      <td>10.219987</td>\n",
       "    </tr>\n",
       "    <tr>\n",
       "      <th>min</th>\n",
       "      <td>1.000000</td>\n",
       "      <td>1930.000000</td>\n",
       "      <td>1.000000</td>\n",
       "      <td>1.000000</td>\n",
       "      <td>31.000000</td>\n",
       "      <td>0.000000</td>\n",
       "      <td>2.762000e+03</td>\n",
       "      <td>0.000000</td>\n",
       "      <td>0.000000</td>\n",
       "      <td>0.000000</td>\n",
       "      <td>0.000000</td>\n",
       "      <td>0.000000</td>\n",
       "      <td>65.000000</td>\n",
       "      <td>23.000000</td>\n",
       "      <td>4.000000</td>\n",
       "      <td>14.000000</td>\n",
       "      <td>0.000000</td>\n",
       "      <td>0.000000</td>\n",
       "      <td>3.000000</td>\n",
       "      <td>2.000000</td>\n",
       "    </tr>\n",
       "    <tr>\n",
       "      <th>25%</th>\n",
       "      <td>1.000000</td>\n",
       "      <td>2021.000000</td>\n",
       "      <td>3.000000</td>\n",
       "      <td>5.000000</td>\n",
       "      <td>829.000000</td>\n",
       "      <td>0.000000</td>\n",
       "      <td>1.342848e+08</td>\n",
       "      <td>12.000000</td>\n",
       "      <td>6.000000</td>\n",
       "      <td>12.000000</td>\n",
       "      <td>0.000000</td>\n",
       "      <td>0.000000</td>\n",
       "      <td>99.000000</td>\n",
       "      <td>57.000000</td>\n",
       "      <td>32.000000</td>\n",
       "      <td>53.000000</td>\n",
       "      <td>5.000000</td>\n",
       "      <td>0.000000</td>\n",
       "      <td>10.000000</td>\n",
       "      <td>4.000000</td>\n",
       "    </tr>\n",
       "    <tr>\n",
       "      <th>50%</th>\n",
       "      <td>1.000000</td>\n",
       "      <td>2022.000000</td>\n",
       "      <td>5.000000</td>\n",
       "      <td>13.000000</td>\n",
       "      <td>2040.000000</td>\n",
       "      <td>3.000000</td>\n",
       "      <td>2.638368e+08</td>\n",
       "      <td>32.000000</td>\n",
       "      <td>34.000000</td>\n",
       "      <td>32.000000</td>\n",
       "      <td>0.000000</td>\n",
       "      <td>2.000000</td>\n",
       "      <td>120.000000</td>\n",
       "      <td>70.000000</td>\n",
       "      <td>51.000000</td>\n",
       "      <td>66.000000</td>\n",
       "      <td>17.000000</td>\n",
       "      <td>0.000000</td>\n",
       "      <td>12.000000</td>\n",
       "      <td>6.000000</td>\n",
       "    </tr>\n",
       "    <tr>\n",
       "      <th>75%</th>\n",
       "      <td>2.000000</td>\n",
       "      <td>2022.000000</td>\n",
       "      <td>9.000000</td>\n",
       "      <td>22.000000</td>\n",
       "      <td>4890.000000</td>\n",
       "      <td>16.000000</td>\n",
       "      <td>6.011986e+08</td>\n",
       "      <td>78.000000</td>\n",
       "      <td>84.000000</td>\n",
       "      <td>99.000000</td>\n",
       "      <td>2.000000</td>\n",
       "      <td>37.000000</td>\n",
       "      <td>141.000000</td>\n",
       "      <td>79.000000</td>\n",
       "      <td>70.000000</td>\n",
       "      <td>76.000000</td>\n",
       "      <td>41.000000</td>\n",
       "      <td>0.000000</td>\n",
       "      <td>24.000000</td>\n",
       "      <td>12.000000</td>\n",
       "    </tr>\n",
       "    <tr>\n",
       "      <th>max</th>\n",
       "      <td>8.000000</td>\n",
       "      <td>2023.000000</td>\n",
       "      <td>12.000000</td>\n",
       "      <td>31.000000</td>\n",
       "      <td>52898.000000</td>\n",
       "      <td>147.000000</td>\n",
       "      <td>3.562544e+09</td>\n",
       "      <td>532.000000</td>\n",
       "      <td>275.000000</td>\n",
       "      <td>964.000000</td>\n",
       "      <td>45.000000</td>\n",
       "      <td>953.000000</td>\n",
       "      <td>206.000000</td>\n",
       "      <td>96.000000</td>\n",
       "      <td>97.000000</td>\n",
       "      <td>97.000000</td>\n",
       "      <td>97.000000</td>\n",
       "      <td>91.000000</td>\n",
       "      <td>97.000000</td>\n",
       "      <td>64.000000</td>\n",
       "    </tr>\n",
       "  </tbody>\n",
       "</table>\n",
       "</div>"
      ],
      "text/plain": [
       "       artist_count  released_year  released_month  released_day  \\\n",
       "count    817.000000     817.000000      817.000000    817.000000   \n",
       "mean       1.567931    2018.457772        6.018360     13.696450   \n",
       "std        0.876211      10.829267        3.572554      9.299663   \n",
       "min        1.000000    1930.000000        1.000000      1.000000   \n",
       "25%        1.000000    2021.000000        3.000000      5.000000   \n",
       "50%        1.000000    2022.000000        5.000000     13.000000   \n",
       "75%        2.000000    2022.000000        9.000000     22.000000   \n",
       "max        8.000000    2023.000000       12.000000     31.000000   \n",
       "\n",
       "       in_spotify_playlists  in_spotify_charts       streams  \\\n",
       "count            817.000000         817.000000  8.160000e+02   \n",
       "mean            4849.898409          11.722154  4.689858e+08   \n",
       "std             7741.126455          18.617668  5.231267e+08   \n",
       "min               31.000000           0.000000  2.762000e+03   \n",
       "25%              829.000000           0.000000  1.342848e+08   \n",
       "50%             2040.000000           3.000000  2.638368e+08   \n",
       "75%             4890.000000          16.000000  6.011986e+08   \n",
       "max            52898.000000         147.000000  3.562544e+09   \n",
       "\n",
       "       in_apple_playlists  in_apple_charts  in_deezer_playlists  \\\n",
       "count          817.000000       817.000000           752.000000   \n",
       "mean            60.161567        49.473684            93.492021   \n",
       "std             74.923594        49.570455           155.561951   \n",
       "min              0.000000         0.000000             0.000000   \n",
       "25%             12.000000         6.000000            12.000000   \n",
       "50%             32.000000        34.000000            32.000000   \n",
       "75%             78.000000        84.000000            99.000000   \n",
       "max            532.000000       275.000000           964.000000   \n",
       "\n",
       "       in_deezer_charts  in_shazam_charts         bpm  danceability_%  \\\n",
       "count        817.000000        813.000000  817.000000      817.000000   \n",
       "mean           2.451652         51.691267  122.565483       67.391677   \n",
       "std            5.397024        128.746914   28.174803       14.688458   \n",
       "min            0.000000          0.000000   65.000000       23.000000   \n",
       "25%            0.000000          0.000000   99.000000       57.000000   \n",
       "50%            0.000000          2.000000  120.000000       70.000000   \n",
       "75%            2.000000         37.000000  141.000000       79.000000   \n",
       "max           45.000000        953.000000  206.000000       96.000000   \n",
       "\n",
       "        valence_%    energy_%  acousticness_%  instrumentalness_%  liveness_%  \\\n",
       "count  817.000000  817.000000      817.000000          817.000000  817.000000   \n",
       "mean    51.201958   64.362301       26.309670            1.676867   18.168911   \n",
       "std     23.620978   16.107587       25.470972            8.767328   13.541996   \n",
       "min      4.000000   14.000000        0.000000            0.000000    3.000000   \n",
       "25%     32.000000   53.000000        5.000000            0.000000   10.000000   \n",
       "50%     51.000000   66.000000       17.000000            0.000000   12.000000   \n",
       "75%     70.000000   76.000000       41.000000            0.000000   24.000000   \n",
       "max     97.000000   97.000000       97.000000           91.000000   97.000000   \n",
       "\n",
       "       speechiness_%  \n",
       "count     817.000000  \n",
       "mean       10.526316  \n",
       "std        10.219987  \n",
       "min         2.000000  \n",
       "25%         4.000000  \n",
       "50%         6.000000  \n",
       "75%        12.000000  \n",
       "max        64.000000  "
      ]
     },
     "execution_count": 35,
     "metadata": {},
     "output_type": "execute_result"
    }
   ],
   "source": [
    "df.describe()"
   ]
  },
  {
   "cell_type": "code",
   "execution_count": 32,
   "id": "a2ae2ccd-e402-40f1-8aab-c8a6612c4ac1",
   "metadata": {},
   "outputs": [
    {
     "data": {
      "text/html": [
       "<div>\n",
       "<style scoped>\n",
       "    .dataframe tbody tr th:only-of-type {\n",
       "        vertical-align: middle;\n",
       "    }\n",
       "\n",
       "    .dataframe tbody tr th {\n",
       "        vertical-align: top;\n",
       "    }\n",
       "\n",
       "    .dataframe thead th {\n",
       "        text-align: right;\n",
       "    }\n",
       "</style>\n",
       "<table border=\"1\" class=\"dataframe\">\n",
       "  <thead>\n",
       "    <tr style=\"text-align: right;\">\n",
       "      <th></th>\n",
       "      <th>track_name</th>\n",
       "      <th>artist(s)_name</th>\n",
       "      <th>artist_count</th>\n",
       "      <th>released_year</th>\n",
       "      <th>released_month</th>\n",
       "      <th>released_day</th>\n",
       "      <th>in_spotify_playlists</th>\n",
       "      <th>in_spotify_charts</th>\n",
       "      <th>streams</th>\n",
       "      <th>in_apple_playlists</th>\n",
       "      <th>...</th>\n",
       "      <th>bpm</th>\n",
       "      <th>key</th>\n",
       "      <th>mode</th>\n",
       "      <th>danceability_%</th>\n",
       "      <th>valence_%</th>\n",
       "      <th>energy_%</th>\n",
       "      <th>acousticness_%</th>\n",
       "      <th>instrumentalness_%</th>\n",
       "      <th>liveness_%</th>\n",
       "      <th>speechiness_%</th>\n",
       "    </tr>\n",
       "  </thead>\n",
       "  <tbody>\n",
       "    <tr>\n",
       "      <th>728</th>\n",
       "      <td>Tom's Diner</td>\n",
       "      <td>AnnenMayKantereit, Giant Rooks</td>\n",
       "      <td>2</td>\n",
       "      <td>2019</td>\n",
       "      <td>6</td>\n",
       "      <td>28</td>\n",
       "      <td>2605</td>\n",
       "      <td>0</td>\n",
       "      <td>236872197.0</td>\n",
       "      <td>15</td>\n",
       "      <td>...</td>\n",
       "      <td>98</td>\n",
       "      <td>F#</td>\n",
       "      <td>Minor</td>\n",
       "      <td>68</td>\n",
       "      <td>33</td>\n",
       "      <td>43</td>\n",
       "      <td>38</td>\n",
       "      <td>0</td>\n",
       "      <td>36</td>\n",
       "      <td>14</td>\n",
       "    </tr>\n",
       "    <tr>\n",
       "      <th>726</th>\n",
       "      <td>O.O</td>\n",
       "      <td>NMIXX</td>\n",
       "      <td>1</td>\n",
       "      <td>2022</td>\n",
       "      <td>2</td>\n",
       "      <td>22</td>\n",
       "      <td>290</td>\n",
       "      <td>0</td>\n",
       "      <td>135444283.0</td>\n",
       "      <td>9</td>\n",
       "      <td>...</td>\n",
       "      <td>200</td>\n",
       "      <td>B</td>\n",
       "      <td>Minor</td>\n",
       "      <td>39</td>\n",
       "      <td>28</td>\n",
       "      <td>77</td>\n",
       "      <td>4</td>\n",
       "      <td>0</td>\n",
       "      <td>6</td>\n",
       "      <td>29</td>\n",
       "    </tr>\n",
       "    <tr>\n",
       "      <th>53</th>\n",
       "      <td>(It Goes Like) Nanana - Edit</td>\n",
       "      <td>Peggy Gou</td>\n",
       "      <td>1</td>\n",
       "      <td>2023</td>\n",
       "      <td>6</td>\n",
       "      <td>15</td>\n",
       "      <td>2259</td>\n",
       "      <td>59</td>\n",
       "      <td>57876440.0</td>\n",
       "      <td>0</td>\n",
       "      <td>...</td>\n",
       "      <td>130</td>\n",
       "      <td>G</td>\n",
       "      <td>Minor</td>\n",
       "      <td>67</td>\n",
       "      <td>96</td>\n",
       "      <td>88</td>\n",
       "      <td>12</td>\n",
       "      <td>19</td>\n",
       "      <td>8</td>\n",
       "      <td>4</td>\n",
       "    </tr>\n",
       "    <tr>\n",
       "      <th>226</th>\n",
       "      <td>Stand By Me (feat. Morgan Wallen)</td>\n",
       "      <td>Lil Durk, Morgan Wallen</td>\n",
       "      <td>2</td>\n",
       "      <td>2023</td>\n",
       "      <td>5</td>\n",
       "      <td>26</td>\n",
       "      <td>381</td>\n",
       "      <td>5</td>\n",
       "      <td>46065667.0</td>\n",
       "      <td>23</td>\n",
       "      <td>...</td>\n",
       "      <td>134</td>\n",
       "      <td>B</td>\n",
       "      <td>Major</td>\n",
       "      <td>76</td>\n",
       "      <td>61</td>\n",
       "      <td>58</td>\n",
       "      <td>6</td>\n",
       "      <td>0</td>\n",
       "      <td>16</td>\n",
       "      <td>3</td>\n",
       "    </tr>\n",
       "    <tr>\n",
       "      <th>639</th>\n",
       "      <td>RAPSTAR</td>\n",
       "      <td>Polo G</td>\n",
       "      <td>1</td>\n",
       "      <td>2021</td>\n",
       "      <td>4</td>\n",
       "      <td>9</td>\n",
       "      <td>4731</td>\n",
       "      <td>0</td>\n",
       "      <td>797402345.0</td>\n",
       "      <td>141</td>\n",
       "      <td>...</td>\n",
       "      <td>81</td>\n",
       "      <td>F#</td>\n",
       "      <td>Major</td>\n",
       "      <td>79</td>\n",
       "      <td>44</td>\n",
       "      <td>54</td>\n",
       "      <td>41</td>\n",
       "      <td>0</td>\n",
       "      <td>13</td>\n",
       "      <td>24</td>\n",
       "    </tr>\n",
       "  </tbody>\n",
       "</table>\n",
       "<p>5 rows × 24 columns</p>\n",
       "</div>"
      ],
      "text/plain": [
       "                            track_name                  artist(s)_name  \\\n",
       "728                        Tom's Diner  AnnenMayKantereit, Giant Rooks   \n",
       "726                                O.O                           NMIXX   \n",
       "53        (It Goes Like) Nanana - Edit                       Peggy Gou   \n",
       "226  Stand By Me (feat. Morgan Wallen)         Lil Durk, Morgan Wallen   \n",
       "639                            RAPSTAR                          Polo G   \n",
       "\n",
       "     artist_count  released_year  released_month  released_day  \\\n",
       "728             2           2019               6            28   \n",
       "726             1           2022               2            22   \n",
       "53              1           2023               6            15   \n",
       "226             2           2023               5            26   \n",
       "639             1           2021               4             9   \n",
       "\n",
       "     in_spotify_playlists  in_spotify_charts      streams  in_apple_playlists  \\\n",
       "728                  2605                  0  236872197.0                  15   \n",
       "726                   290                  0  135444283.0                   9   \n",
       "53                   2259                 59   57876440.0                   0   \n",
       "226                   381                  5   46065667.0                  23   \n",
       "639                  4731                  0  797402345.0                 141   \n",
       "\n",
       "     ...  bpm  key   mode  danceability_%  valence_% energy_% acousticness_%  \\\n",
       "728  ...   98   F#  Minor              68         33       43             38   \n",
       "726  ...  200    B  Minor              39         28       77              4   \n",
       "53   ...  130    G  Minor              67         96       88             12   \n",
       "226  ...  134    B  Major              76         61       58              6   \n",
       "639  ...   81   F#  Major              79         44       54             41   \n",
       "\n",
       "     instrumentalness_%  liveness_%  speechiness_%  \n",
       "728                   0          36             14  \n",
       "726                   0           6             29  \n",
       "53                   19           8              4  \n",
       "226                   0          16              3  \n",
       "639                   0          13             24  \n",
       "\n",
       "[5 rows x 24 columns]"
      ]
     },
     "execution_count": 32,
     "metadata": {},
     "output_type": "execute_result"
    }
   ],
   "source": [
    "df.sample(5)"
   ]
  },
  {
   "cell_type": "code",
   "execution_count": 43,
   "id": "d9060167-64ce-4a20-9d7f-69ad3c7f172d",
   "metadata": {},
   "outputs": [],
   "source": [
    "df['streams']= (df['streams']/df['streams'].max())*100"
   ]
  },
  {
   "cell_type": "code",
   "execution_count": 44,
   "id": "ef809524-38fe-44d9-92a4-2018ab87508f",
   "metadata": {},
   "outputs": [
    {
     "data": {
      "text/plain": [
       "0       3.968560\n",
       "1       3.753393\n",
       "2       3.929888\n",
       "3      22.479465\n",
       "4       8.511792\n",
       "         ...    \n",
       "948     2.567642\n",
       "949     3.420923\n",
       "950     2.063517\n",
       "951     3.758427\n",
       "952     2.694911\n",
       "Name: streams, Length: 817, dtype: float64"
      ]
     },
     "execution_count": 44,
     "metadata": {},
     "output_type": "execute_result"
    }
   ],
   "source": [
    "df['streams']"
   ]
  },
  {
   "cell_type": "code",
   "execution_count": 45,
   "id": "40902240-3ce7-4217-97c0-02c17250fc06",
   "metadata": {},
   "outputs": [
    {
     "data": {
      "text/plain": [
       "count    816.000000\n",
       "mean      13.164351\n",
       "std       14.684079\n",
       "min        0.000078\n",
       "25%        3.769352\n",
       "50%        7.405853\n",
       "75%       16.875542\n",
       "max      100.000000\n",
       "Name: streams, dtype: float64"
      ]
     },
     "execution_count": 45,
     "metadata": {},
     "output_type": "execute_result"
    }
   ],
   "source": [
    "df['streams'].describe()"
   ]
  },
  {
   "cell_type": "code",
   "execution_count": null,
   "id": "e1d94874-8842-46d8-bfe9-f7685ed539a8",
   "metadata": {},
   "outputs": [],
   "source": []
  }
 ],
 "metadata": {
  "kernelspec": {
   "display_name": "Python 3 (ipykernel)",
   "language": "python",
   "name": "python3"
  },
  "language_info": {
   "codemirror_mode": {
    "name": "ipython",
    "version": 3
   },
   "file_extension": ".py",
   "mimetype": "text/x-python",
   "name": "python",
   "nbconvert_exporter": "python",
   "pygments_lexer": "ipython3",
   "version": "3.11.1"
  }
 },
 "nbformat": 4,
 "nbformat_minor": 5
}
